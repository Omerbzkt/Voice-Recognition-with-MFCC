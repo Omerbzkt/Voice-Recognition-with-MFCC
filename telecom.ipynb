{
 "cells": [
  {
   "cell_type": "code",
   "execution_count": null,
   "id": "b182fd3f",
   "metadata": {},
   "outputs": [],
   "source": [
    "import os\n",
    "import numpy as np\n",
    "import librosa\n",
    "import tensorflow as tf\n",
    "from tensorflow import keras\n",
    "from keras.models import Sequential\n",
    "from keras.layers import Dense, Dropout, Flatten,Input,Conv1D,MaxPooling1D,Dropout\n",
    "#from keras.optimizers import Adam\n",
    "\n",
    "dosya_yolu_1 = \"left\"\n",
    "dosya_yolu_2 = \"right\"\n",
    "dosya_yolu_3 = \"up\"\n",
    "dosya_yolu_4 = \"down\"\n",
    "\n",
    "n_mfcc = 13\n",
    "hop_length = 512\n",
    "n_fft = 2048\n",
    "\n",
    "mfcc_features_left = []\n",
    "mfcc_features_right = []\n",
    "mfcc_features_up = []\n",
    "mfcc_features_down = []\n",
    "\n",
    "for dosya_adı in os.listdir(dosya_yolu_1):\n",
    "    if dosya_adı.endswith(\".wav\"):\n",
    "        dosya_path = os.path.join(dosya_yolu_1, dosya_adı)\n",
    "        ses_sinyali, fs = librosa.load(dosya_path)\n",
    "        mfcc = librosa.feature.mfcc(y=ses_sinyali, sr=fs, n_mfcc=n_mfcc, hop_length=hop_length, n_fft=n_fft)\n",
    "        if len(mfcc[0]) == 44:\n",
    "            mfcc_features_left.append(mfcc.T)\n",
    "        #print(mfcc.shape)\n",
    "        \n",
    "for dosya_adı in os.listdir(dosya_yolu_2):\n",
    "    if dosya_adı.endswith(\".wav\"):\n",
    "        dosya_path = os.path.join(dosya_yolu_2, dosya_adı)\n",
    "        ses_sinyali, fs = librosa.load(dosya_path)\n",
    "        mfcc = librosa.feature.mfcc(y=ses_sinyali, sr=fs, n_mfcc=n_mfcc, hop_length=hop_length, n_fft=n_fft)\n",
    "        if len(mfcc[0]) == 44:\n",
    "            mfcc_features_right.append(mfcc.T)\n",
    "        #print(mfcc.shape)\n",
    "\n",
    "for dosya_adı in os.listdir(dosya_yolu_3):\n",
    "    if dosya_adı.endswith(\".wav\"):\n",
    "        dosya_path = os.path.join(dosya_yolu_3, dosya_adı)\n",
    "        ses_sinyali, fs = librosa.load(dosya_path)\n",
    "        mfcc = librosa.feature.mfcc(y=ses_sinyali, sr=fs, n_mfcc=n_mfcc, hop_length=hop_length, n_fft=n_fft)\n",
    "        if len(mfcc[0]) == 44:\n",
    "            mfcc_features_up.append(mfcc.T)\n",
    "        #print(mfcc.shape)\n",
    "        \n",
    "for dosya_adı in os.listdir(dosya_yolu_4):\n",
    "    if dosya_adı.endswith(\".wav\"):\n",
    "        dosya_path = os.path.join(dosya_yolu_4, dosya_adı)\n",
    "        ses_sinyali, fs = librosa.load(dosya_path)\n",
    "        mfcc = librosa.feature.mfcc(y=ses_sinyali, sr=fs, n_mfcc=n_mfcc, hop_length=hop_length, n_fft=n_fft)\n",
    "        if len(mfcc[0]) == 44:\n",
    "            mfcc_features_down.append(mfcc.T)\n",
    "        #print(mfcc.shape)\n",
    "        \n",
    "        \n",
    "size_left = np.array(mfcc_features_left)\n",
    "size_right = np.array(mfcc_features_right)\n",
    "size_up = np.array(mfcc_features_up)\n",
    "size_down = np.array(mfcc_features_down)\n",
    "print(size_down)\n",
    "x_train = np.array(np.concatenate((mfcc_features_left,mfcc_features_right,mfcc_features_up,mfcc_features_down), axis=0))\n",
    "y_train = np.array([0] * len(size_left) + [1] *len(size_right) + [2] * len(size_up) + [3]*len(size_down))\n",
    "y_train = tf.keras.utils.to_categorical(y_train)\n",
    "\n",
    "model = Sequential()\n",
    "model.add(Conv1D(32, 3, activation='relu', input_shape=(44, n_mfcc)))\n",
    "model.add(Conv1D(32, 3, activation='relu'))\n",
    "model.add(MaxPooling1D(2))\n",
    "model.add(Dropout(0.25))\n",
    "\n",
    "model.add(Conv1D(64, 3, activation='relu'))\n",
    "model.add(Conv1D(64, 3, activation='relu'))\n",
    "model.add(MaxPooling1D(2))\n",
    "model.add(Dropout(0.25))\n",
    "\n",
    "model.add(Conv1D(128, 3, activation='relu'))\n",
    "model.add(Conv1D(128, 3, activation='relu'))\n",
    "model.add(MaxPooling1D(2))\n",
    "model.add(Dropout(0.25))\n",
    "\n",
    "model.add(Flatten())\n",
    "model.add(Dense(512, activation='relu'))\n",
    "model.add(Dropout(0.5))\n",
    "model.add(Dense(4, activation='softmax'))\n",
    "\n",
    "opt = keras.optimizers.Adam()\n",
    "\n",
    "model.compile(loss='categorical_crossentropy', optimizer=opt, metrics=['accuracy'])\n",
    "\n",
    "\n",
    "history = model.fit(x_train, y_train, batch_size=32, epochs=50, validation_split = 0.1)\n",
    "model.save(\"my_voice_big_model_1000_4_command.h5\")\n"
   ]
  },
  {
   "cell_type": "code",
   "execution_count": 1,
   "id": "dbe9ea48",
   "metadata": {},
   "outputs": [
    {
     "name": "stdout",
     "output_type": "stream",
     "text": [
      "[[1.6388165e-05 2.4314329e-07 5.3520493e-05 9.9992979e-01]]\n"
     ]
    }
   ],
   "source": [
    "import numpy as np\n",
    "import librosa\n",
    "import tensorflow as tf\n",
    "from tensorflow import keras\n",
    "from keras.models import Sequential\n",
    "from keras.layers import Dense, Dropout, Flatten,Input\n",
    "from keras.models import load_model\n",
    "\n",
    "model = load_model('my_voice_big_model_4_command_3.h5')\n",
    "\n",
    "n_mfcc = 13\n",
    "hop_length = 512\n",
    "n_fft = 2048\n",
    "mfcc_feature = []\n",
    "ses_sinyali, fs = librosa.load('down_n.wav')\n",
    "mfcc = librosa.feature.mfcc(y=ses_sinyali, sr=fs, n_mfcc=n_mfcc, hop_length=hop_length, n_fft=n_fft)\n",
    "mfcc_feature.append(mfcc.T)\n",
    "mfcc_feature = np.array(mfcc_feature)\n",
    "predictions = model.predict(mfcc_feature[:,-44:,:])\n",
    "\n",
    "print(predictions)"
   ]
  },
  {
   "cell_type": "code",
   "execution_count": 4,
   "id": "703e513b",
   "metadata": {},
   "outputs": [
    {
     "data": {
      "image/png": "[encoded data removed]",
      "text/plain": [
       "<Figure size 640x480 with 1 Axes>"
      ]
     },
     "metadata": {},
     "output_type": "display_data"
    }
   ],
   "source": [
    "import matplotlib.pyplot as plt\n",
    "\n",
    "plt.plot(history.history['loss'])\n",
    "plt.plot(history.history['val_loss'])\n",
    "plt.title('model loss')\n",
    "plt.ylabel('loss')\n",
    "plt.xlabel('epoch')\n",
    "plt.legend(['train', 'val'], loc='upper left')\n",
    "plt.show()"
   ]
  },
  {
   "cell_type": "code",
   "execution_count": null,
   "id": "21482a9c",
   "metadata": {},
   "outputs": [],
   "source": []
  }
 ],
 "metadata": {
  "kernelspec": {
   "display_name": "Python 3 (ipykernel)",
   "language": "python",
   "name": "python3"
  },
  "language_info": {
   "codemirror_mode": {
    "name": "ipython",
    "version": 3
   },
   "file_extension": ".py",
   "mimetype": "text/x-python",
   "name": "python",
   "nbconvert_exporter": "python",
   "pygments_lexer": "ipython3",
   "version": "3.9.16"
  }
 },
 "nbformat": 4,
 "nbformat_minor": 5
}
